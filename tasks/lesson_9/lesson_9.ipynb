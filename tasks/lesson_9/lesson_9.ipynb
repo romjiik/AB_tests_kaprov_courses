{
 "cells": [
  {
   "cell_type": "code",
   "execution_count": 3,
   "metadata": {},
   "outputs": [],
   "source": [
    "import os\n",
    "from datetime import datetime, timedelta\n",
    "import numpy as np\n",
    "import pandas as pd\n",
    "import matplotlib.pyplot as plt\n",
    "from tqdm.notebook import tqdm\n",
    "from scipy import stats"
   ]
  },
  {
   "cell_type": "markdown",
   "metadata": {},
   "source": [
    "# Задание 1"
   ]
  },
  {
   "cell_type": "markdown",
   "metadata": {},
   "source": [
    "Оцените эксперимент «Sending email (correct link)» с использованием CUPED. В качестве ковариаты используйте выручку пользователей за 4 недели до эксперимента.\n",
    "\n",
    "Данные эксперимента «Sending email (correct link)»: 2022-05-03/2022-05-03T12_df_sales.csv и 2022-05-03/experiment_users.csv. Эксперимент проводился с 2022-04-25 по 2022-05-02. Метрика — средняя выручка с клиента.\n",
    "\n",
    "В качестве ответа введите p-value с точность до 4-го знака после точки."
   ]
  },
  {
   "cell_type": "code",
   "execution_count": 18,
   "metadata": {},
   "outputs": [],
   "source": [
    "# загрузка данных\n",
    "URL_BASE = 'https://raw.githubusercontent.com/ab-courses/simulator-ab-datasets/main/2022-05-03/'\n",
    "\n",
    "def read_database(file_name):\n",
    "    return pd.read_csv(os.path.join(URL_BASE, file_name))\n",
    "\n",
    "df_sales = read_database('2022-05-03T12_df_sales.csv')\n",
    "df_sales['date'] = pd.to_datetime(df_sales['date'])\n",
    "\n",
    "df_exp_users = read_database('experiment_users.csv')\n",
    "df_check = pd.read_csv('df_metrics_1000.csv')"
   ]
  },
  {
   "cell_type": "code",
   "execution_count": 19,
   "metadata": {},
   "outputs": [],
   "source": [
    "df_exp = (\n",
    "    df_sales[(df_sales['date'] >= datetime(2022, 4, 25)) & (df_sales['date'] <= datetime(2022, 5, 2))]\n",
    ").copy()\n",
    "\n",
    "df_user_metrics = df_exp.groupby(['user_id'], as_index=False)['price'].sum().rename(columns={'price': 'metric'})"
   ]
  },
  {
   "cell_type": "code",
   "execution_count": 20,
   "metadata": {},
   "outputs": [],
   "source": [
    "df_cuped = (\n",
    "    df_sales[(df_sales['date'] >= datetime(2022, 3, 28)) & (df_sales['date'] < datetime(2022, 4, 25))]\n",
    ")\n",
    "\n",
    "df_user_metrics_before = df_cuped.groupby(['user_id'], as_index=False)['price'].sum().rename(columns={'price': 'metric_before'})"
   ]
  },
  {
   "cell_type": "code",
   "execution_count": 25,
   "metadata": {},
   "outputs": [],
   "source": [
    "df = df_exp_users.merge(df_user_metrics, how='left', on='user_id').fillna(0)\n",
    "df = df.merge(df_user_metrics_before,  how='left', on='user_id').fillna(0)"
   ]
  },
  {
   "cell_type": "code",
   "execution_count": 28,
   "metadata": {},
   "outputs": [],
   "source": [
    "df_control = df[df['pilot'] == 0]\n",
    "df_test = df[df['pilot'] == 1]"
   ]
  },
  {
   "cell_type": "code",
   "execution_count": 29,
   "metadata": {},
   "outputs": [],
   "source": [
    "def calculate_theta(y_control, y_pilot, x_control, x_pilot):\n",
    "    \"\"\"Вычисляем Theta по данным двух групп.\n",
    "\n",
    "    y_control - значения метрики во время пилота на контрольной группе\n",
    "    y_pilot - значения метрики во время пилота на пилотной группе\n",
    "    x_control - значения ковариант на контрольной группе\n",
    "    x_pilot - значения ковариант на пилотной группе\n",
    "    \"\"\"\n",
    "    y = np.hstack([y_control, y_pilot])\n",
    "    x = np.hstack([x_control, x_pilot])\n",
    "    covariance = np.cov(x, y)[0, 1]\n",
    "    variance = x.var()\n",
    "    theta = covariance / variance\n",
    "    return theta"
   ]
  },
  {
   "cell_type": "code",
   "execution_count": 30,
   "metadata": {},
   "outputs": [],
   "source": [
    "def check_cuped_test(df_control, df_pilot, covariate_column):\n",
    "    \"\"\"Проверяет гипотезу о равенстве средних с использованием CUPED.\n",
    "\n",
    "    covariate_column - название стобца с ковариантой\n",
    "\n",
    "    return - pvalue.\n",
    "    \"\"\"\n",
    "    theta = calculate_theta(\n",
    "        df_control['metric'], df_pilot['metric'],\n",
    "        df_control[covariate_column], df_pilot[covariate_column]\n",
    "    )\n",
    "    metric_cuped_control = df_control['metric'] - theta * df_control[covariate_column]\n",
    "    metric_cuped_pilot = df_pilot['metric'] - theta * df_pilot[covariate_column]\n",
    "    _, pvalue = stats.ttest_ind(metric_cuped_control, metric_cuped_pilot)\n",
    "    return pvalue"
   ]
  },
  {
   "cell_type": "code",
   "execution_count": 31,
   "metadata": {},
   "outputs": [
    {
     "name": "stdout",
     "output_type": "stream",
     "text": [
      "pvalue с CUPED: 0.0539\n"
     ]
    }
   ],
   "source": [
    "pvalue = check_cuped_test(df_control, df_test, 'metric_before')\n",
    "print(f'pvalue с CUPED: {pvalue:0.4f}')"
   ]
  },
  {
   "cell_type": "code",
   "execution_count": null,
   "metadata": {},
   "outputs": [],
   "source": []
  }
 ],
 "metadata": {
  "kernelspec": {
   "display_name": "Python 3",
   "language": "python",
   "name": "python3"
  },
  "language_info": {
   "codemirror_mode": {
    "name": "ipython",
    "version": 3
   },
   "file_extension": ".py",
   "mimetype": "text/x-python",
   "name": "python",
   "nbconvert_exporter": "python",
   "pygments_lexer": "ipython3",
   "version": "3.11.6"
  }
 },
 "nbformat": 4,
 "nbformat_minor": 2
}
