{
 "cells": [
  {
   "cell_type": "code",
   "execution_count": 131,
   "metadata": {},
   "outputs": [],
   "source": [
    "import os\n",
    "\n",
    "import pandas as pd\n",
    "import numpy as np\n",
    "\n",
    "import scipy.stats as stats\n",
    "from scipy.stats import ttest_ind\n",
    "\n",
    "from datetime import datetime, timedelta\n",
    "\n",
    "from tqdm.notebook import tqdm"
   ]
  },
  {
   "cell_type": "code",
   "execution_count": 2,
   "metadata": {},
   "outputs": [],
   "source": [
    "URL_BASE = 'https://raw.githubusercontent.com/ab-courses/simulator-ab-datasets/main/2022-04-01/'\n",
    "\n",
    "def read_database(file_name):\n",
    "    return pd.read_csv(os.path.join(URL_BASE, file_name))"
   ]
  },
  {
   "cell_type": "markdown",
   "metadata": {},
   "source": [
    "# Задание 4"
   ]
  },
  {
   "cell_type": "markdown",
   "metadata": {},
   "source": [
    "Мы рассмотрели несколько вариантов добавления эффекта. Есть ли смысл думать о способе добавления эффекта при оценке вероятности ошибки II рода или все способы дают одинаковый результат? Результаты могут быть разными. Чтобы в этом убедиться, проведём численный эксперимент.\n",
    "\n",
    "Допустим, в наш А/В-тест попадают все пользователи, совершавшие покупки до 28 марта.\n",
    "\n",
    " \n",
    "Целевая метрика — средняя выручка с клиента за время эксперимента. Целевую метрику считаем на неделе с 21 по 28 марта. Уровень значимости — 0.05. Критерий — тест Стьюдента. Размер групп — 1000. Ожидаемый эффект — средняя выручка увеличится на 10%.\n",
    "\n",
    "Нужно оценить вероятности ошибок II рода для трёх вариантов добавления эффекта:\n",
    "\n",
    "1. Добавление константы ко всем значениям;\n",
    "\n",
    "2. Умножение на константу всех значений;\n",
    "\n",
    "3. Добавление константы к 2.5% значений."
   ]
  },
  {
   "cell_type": "code",
   "execution_count": 5,
   "metadata": {},
   "outputs": [],
   "source": [
    "df_sales = read_database('2022-04-01T12_df_sales.csv')\n",
    "df_sales['date'] = pd.to_datetime(df_sales['date'])"
   ]
  },
  {
   "cell_type": "code",
   "execution_count": 117,
   "metadata": {},
   "outputs": [
    {
     "data": {
      "text/plain": [
       "(98584,)"
      ]
     },
     "execution_count": 117,
     "metadata": {},
     "output_type": "execute_result"
    }
   ],
   "source": [
    "df_users.shape"
   ]
  },
  {
   "cell_type": "code",
   "execution_count": 123,
   "metadata": {},
   "outputs": [],
   "source": [
    "df_users = df_sales[df_sales['date'] < datetime(2022, 3,28)][['user_id']].drop_duplicates()\n",
    "df_sales_exp = df_sales[(df_sales['date'] >= datetime(2022, 3, 21)) & (df_sales['date'] < datetime(2022, 3,28))].reset_index()\n",
    "df_sales_by_user = df_sales_exp.groupby(['user_id'], as_index=False)['price'].sum()\n",
    "df = df_users.merge(df_sales_by_user, how='left', on='user_id').fillna(0)"
   ]
  },
  {
   "cell_type": "markdown",
   "metadata": {},
   "source": [
    "1. Добавление константы ко всем значениям;"
   ]
  },
  {
   "cell_type": "code",
   "execution_count": 124,
   "metadata": {},
   "outputs": [],
   "source": [
    "alpha = 0.05\n",
    "effect = 10 # в процентах\n",
    "sample_size = 1000\n",
    "\n",
    "users = df['user_id'].unique()\n",
    "\n",
    "p_values = []\n",
    "\n",
    "for i in range(1000):\n",
    "    np.random.shuffle(users)\n",
    "    group_a, group_b = users[:sample_size], users[sample_size:sample_size * 2]\n",
    "    sales_a = df[df['user_id'].isin(group_a)]['price']\n",
    "    sales_b = df[df['user_id'].isin(group_b)]['price']\n",
    "    sales_b += sales_b.mean() * (effect / 100)\n",
    "    _, p_val = ttest_ind(sales_a, sales_b)\n",
    "    p_values.append(p_val)"
   ]
  },
  {
   "cell_type": "code",
   "execution_count": 125,
   "metadata": {},
   "outputs": [
    {
     "name": "stdout",
     "output_type": "stream",
     "text": [
      "Оценка вероятности ошибка 2-го рода с добавлением константы = 0.806\n"
     ]
    }
   ],
   "source": [
    "print(f'Оценка вероятности ошибка 2-го рода с добавлением константы = {1 - (np.array(p_values) < 0.05).mean()}')"
   ]
  },
  {
   "cell_type": "markdown",
   "metadata": {},
   "source": [
    "2. Умножение на константу всех значений;"
   ]
  },
  {
   "cell_type": "code",
   "execution_count": 126,
   "metadata": {},
   "outputs": [],
   "source": [
    "alpha = 0.05\n",
    "effect = 10 # в процентах\n",
    "sample_size = 1000\n",
    "\n",
    "users = df['user_id'].unique()\n",
    "\n",
    "p_values = []\n",
    "\n",
    "for i in range(1000):\n",
    "    np.random.shuffle(users)\n",
    "    group_a, group_b = users[:sample_size], users[sample_size:sample_size * 2]\n",
    "    sales_a = df[df['user_id'].isin(group_a)]['price']\n",
    "    sales_b = df[df['user_id'].isin(group_b)]['price']\n",
    "    sales_b *= (1 + (effect / 100))\n",
    "    _, p_val = ttest_ind(sales_a, sales_b)\n",
    "    p_values.append(p_val)"
   ]
  },
  {
   "cell_type": "code",
   "execution_count": 127,
   "metadata": {},
   "outputs": [
    {
     "name": "stdout",
     "output_type": "stream",
     "text": [
      "Оценка вероятности ошибка 2-го рода с умножением на константу = 0.833\n"
     ]
    }
   ],
   "source": [
    "print(f'Оценка вероятности ошибка 2-го рода с умножением на константу = {1 - (np.array(p_values) < 0.05).mean()}')"
   ]
  },
  {
   "cell_type": "markdown",
   "metadata": {},
   "source": [
    "3. Добавление константы к 2.5% значений."
   ]
  },
  {
   "cell_type": "code",
   "execution_count": 128,
   "metadata": {},
   "outputs": [
    {
     "name": "stderr",
     "output_type": "stream",
     "text": [
      "/var/folders/1p/ybd4mcmj71j_w9gphd0xdrgc6vsdmk/T/ipykernel_789/20926853.py:14: SettingWithCopyWarning: \n",
      "A value is trying to be set on a copy of a slice from a DataFrame\n",
      "\n",
      "See the caveats in the documentation: https://pandas.pydata.org/pandas-docs/stable/user_guide/indexing.html#returning-a-view-versus-a-copy\n",
      "  sales_b[:int(sample_size * 0.025)] += sales_b.mean() * (effect / 2.5)\n"
     ]
    }
   ],
   "source": [
    "alpha = 0.05\n",
    "effect = 10 # в процентах\n",
    "sample_size = 1000\n",
    "\n",
    "users = df['user_id'].unique()\n",
    "\n",
    "p_values = []\n",
    "\n",
    "for i in range(1000):\n",
    "    np.random.shuffle(users)\n",
    "    group_a, group_b = users[:sample_size], users[sample_size:sample_size * 2]\n",
    "    sales_a = df[df['user_id'].isin(group_a)]['price']\n",
    "    sales_b = df[df['user_id'].isin(group_b)]['price']\n",
    "    sales_b[:int(sample_size * 0.025)] += sales_b.mean() * (effect / 2.5) \n",
    "    _, p_val = ttest_ind(sales_a, sales_b)\n",
    "    p_values.append(p_val)"
   ]
  },
  {
   "cell_type": "code",
   "execution_count": 129,
   "metadata": {},
   "outputs": [
    {
     "name": "stdout",
     "output_type": "stream",
     "text": [
      "Оценка вероятности ошибка 2-го рода с добавлением константы части наблюдений = 0.8109999999999999\n"
     ]
    }
   ],
   "source": [
    "print(f'Оценка вероятности ошибка 2-го рода с добавлением константы части наблюдений = {1 - (np.array(p_values) < 0.05).mean()}')"
   ]
  },
  {
   "cell_type": "markdown",
   "metadata": {},
   "source": [
    "## Решение из курса"
   ]
  },
  {
   "cell_type": "code",
   "execution_count": 132,
   "metadata": {},
   "outputs": [
    {
     "ename": "ImportError",
     "evalue": "IProgress not found. Please update jupyter and ipywidgets. See https://ipywidgets.readthedocs.io/en/stable/user_install.html",
     "output_type": "error",
     "traceback": [
      "\u001b[0;31m---------------------------------------------------------------------------\u001b[0m",
      "\u001b[0;31mImportError\u001b[0m                               Traceback (most recent call last)",
      "Cell \u001b[0;32mIn[132], line 35\u001b[0m\n\u001b[1;32m     32\u001b[0m values \u001b[38;5;241m=\u001b[39m df[\u001b[38;5;124m'\u001b[39m\u001b[38;5;124mprice\u001b[39m\u001b[38;5;124m'\u001b[39m]\u001b[38;5;241m.\u001b[39mvalues\n\u001b[1;32m     33\u001b[0m mean_ \u001b[38;5;241m=\u001b[39m values\u001b[38;5;241m.\u001b[39mmean()\n\u001b[0;32m---> 35\u001b[0m \u001b[38;5;28;01mfor\u001b[39;00m _ \u001b[38;5;129;01min\u001b[39;00m \u001b[43mtqdm\u001b[49m\u001b[43m(\u001b[49m\u001b[38;5;28;43mrange\u001b[39;49m\u001b[43m(\u001b[49m\u001b[38;5;241;43m30000\u001b[39;49m\u001b[43m)\u001b[49m\u001b[43m)\u001b[49m:\n\u001b[1;32m     36\u001b[0m     \u001b[38;5;66;03m# выбираем случайные группы\u001b[39;00m\n\u001b[1;32m     37\u001b[0m     a, b \u001b[38;5;241m=\u001b[39m np\u001b[38;5;241m.\u001b[39mrandom\u001b[38;5;241m.\u001b[39mchoice(values, (\u001b[38;5;241m2\u001b[39m, sample_size,), \u001b[38;5;28;01mFalse\u001b[39;00m)\n\u001b[1;32m     38\u001b[0m     \u001b[38;5;66;03m# добавляем эффект тремя способами\u001b[39;00m\n",
      "File \u001b[0;32m/opt/homebrew/lib/python3.11/site-packages/tqdm/notebook.py:238\u001b[0m, in \u001b[0;36mtqdm_notebook.__init__\u001b[0;34m(self, *args, **kwargs)\u001b[0m\n\u001b[1;32m    236\u001b[0m unit_scale \u001b[38;5;241m=\u001b[39m \u001b[38;5;241m1\u001b[39m \u001b[38;5;28;01mif\u001b[39;00m \u001b[38;5;28mself\u001b[39m\u001b[38;5;241m.\u001b[39munit_scale \u001b[38;5;129;01mis\u001b[39;00m \u001b[38;5;28;01mTrue\u001b[39;00m \u001b[38;5;28;01melse\u001b[39;00m \u001b[38;5;28mself\u001b[39m\u001b[38;5;241m.\u001b[39munit_scale \u001b[38;5;129;01mor\u001b[39;00m \u001b[38;5;241m1\u001b[39m\n\u001b[1;32m    237\u001b[0m total \u001b[38;5;241m=\u001b[39m \u001b[38;5;28mself\u001b[39m\u001b[38;5;241m.\u001b[39mtotal \u001b[38;5;241m*\u001b[39m unit_scale \u001b[38;5;28;01mif\u001b[39;00m \u001b[38;5;28mself\u001b[39m\u001b[38;5;241m.\u001b[39mtotal \u001b[38;5;28;01melse\u001b[39;00m \u001b[38;5;28mself\u001b[39m\u001b[38;5;241m.\u001b[39mtotal\n\u001b[0;32m--> 238\u001b[0m \u001b[38;5;28mself\u001b[39m\u001b[38;5;241m.\u001b[39mcontainer \u001b[38;5;241m=\u001b[39m \u001b[38;5;28;43mself\u001b[39;49m\u001b[38;5;241;43m.\u001b[39;49m\u001b[43mstatus_printer\u001b[49m\u001b[43m(\u001b[49m\u001b[38;5;28;43mself\u001b[39;49m\u001b[38;5;241;43m.\u001b[39;49m\u001b[43mfp\u001b[49m\u001b[43m,\u001b[49m\u001b[43m \u001b[49m\u001b[43mtotal\u001b[49m\u001b[43m,\u001b[49m\u001b[43m \u001b[49m\u001b[38;5;28;43mself\u001b[39;49m\u001b[38;5;241;43m.\u001b[39;49m\u001b[43mdesc\u001b[49m\u001b[43m,\u001b[49m\u001b[43m \u001b[49m\u001b[38;5;28;43mself\u001b[39;49m\u001b[38;5;241;43m.\u001b[39;49m\u001b[43mncols\u001b[49m\u001b[43m)\u001b[49m\n\u001b[1;32m    239\u001b[0m \u001b[38;5;28mself\u001b[39m\u001b[38;5;241m.\u001b[39mcontainer\u001b[38;5;241m.\u001b[39mpbar \u001b[38;5;241m=\u001b[39m proxy(\u001b[38;5;28mself\u001b[39m)\n\u001b[1;32m    240\u001b[0m \u001b[38;5;28mself\u001b[39m\u001b[38;5;241m.\u001b[39mdisplayed \u001b[38;5;241m=\u001b[39m \u001b[38;5;28;01mFalse\u001b[39;00m\n",
      "File \u001b[0;32m/opt/homebrew/lib/python3.11/site-packages/tqdm/notebook.py:113\u001b[0m, in \u001b[0;36mtqdm_notebook.status_printer\u001b[0;34m(_, total, desc, ncols)\u001b[0m\n\u001b[1;32m    104\u001b[0m \u001b[38;5;66;03m# Fallback to text bar if there's no total\u001b[39;00m\n\u001b[1;32m    105\u001b[0m \u001b[38;5;66;03m# DEPRECATED: replaced with an 'info' style bar\u001b[39;00m\n\u001b[1;32m    106\u001b[0m \u001b[38;5;66;03m# if not total:\u001b[39;00m\n\u001b[0;32m   (...)\u001b[0m\n\u001b[1;32m    110\u001b[0m \n\u001b[1;32m    111\u001b[0m \u001b[38;5;66;03m# Prepare IPython progress bar\u001b[39;00m\n\u001b[1;32m    112\u001b[0m \u001b[38;5;28;01mif\u001b[39;00m IProgress \u001b[38;5;129;01mis\u001b[39;00m \u001b[38;5;28;01mNone\u001b[39;00m:  \u001b[38;5;66;03m# #187 #451 #558 #872\u001b[39;00m\n\u001b[0;32m--> 113\u001b[0m     \u001b[38;5;28;01mraise\u001b[39;00m \u001b[38;5;167;01mImportError\u001b[39;00m(WARN_NOIPYW)\n\u001b[1;32m    114\u001b[0m \u001b[38;5;28;01mif\u001b[39;00m total:\n\u001b[1;32m    115\u001b[0m     pbar \u001b[38;5;241m=\u001b[39m IProgress(\u001b[38;5;28mmin\u001b[39m\u001b[38;5;241m=\u001b[39m\u001b[38;5;241m0\u001b[39m, \u001b[38;5;28mmax\u001b[39m\u001b[38;5;241m=\u001b[39mtotal)\n",
      "\u001b[0;31mImportError\u001b[0m: IProgress not found. Please update jupyter and ipywidgets. See https://ipywidgets.readthedocs.io/en/stable/user_install.html"
     ]
    }
   ],
   "source": [
    "import os\n",
    "from datetime import datetime\n",
    "import numpy as np\n",
    "import pandas as pd\n",
    "from scipy import stats\n",
    "from tqdm.notebook import tqdm\n",
    "\n",
    "URL_BASE = 'https://raw.githubusercontent.com/ab-courses/simulator-ab-datasets/main/2022-04-01/'\n",
    "\n",
    "def read_database(file_name):\n",
    "    return pd.read_csv(os.path.join(URL_BASE, file_name))\n",
    "\n",
    "df_sales = read_database('2022-04-01T12_df_sales.csv')\n",
    "df_sales['date'] = pd.to_datetime(df_sales['date'])\n",
    "\n",
    "begin_date = datetime(2022, 3, 21)\n",
    "end_date = datetime(2022, 3, 28)\n",
    "df_users = df_sales[df_sales['date'] < end_date][['user_id']].drop_duplicates()\n",
    "df_metrics = (\n",
    "    df_sales\n",
    "    [(df_sales['date'] >= begin_date) & (df_sales['date'] < end_date)]\n",
    "    .groupby('user_id')[['price']].sum()\n",
    "    .reset_index()  \n",
    ")\n",
    "df = pd.merge(df_users, df_metrics, on='user_id', how='left').fillna(0)\n",
    "\n",
    "alpha = 0.05\n",
    "sample_size = 1000\n",
    "effect = 0.1\n",
    "\n",
    "pvalues = {'one': [], 'two': [], 'three': []}\n",
    "values = df['price'].values\n",
    "mean_ = values.mean()\n",
    "\n",
    "for _ in tqdm(range(30000)):\n",
    "    # выбираем случайные группы\n",
    "    a, b = np.random.choice(values, (2, sample_size,), False)\n",
    "    # добавляем эффект тремя способами\n",
    "    b_one = b + mean_ * effect\n",
    "    b_two = b * (1 + effect)\n",
    "    indexes = np.random.choice(np.arange(sample_size), int(sample_size * 0.025), False)\n",
    "    add_value = effect * mean_ * sample_size / len(indexes)\n",
    "    mask = np.zeros(sample_size)\n",
    "    mask[indexes] += 1\n",
    "    b_three = b + mask * add_value\n",
    "    # считаем и сохраняем p-value\n",
    "    for b_, key in ((b_one, 'one',), (b_two, 'two',), (b_three, 'three',),):\n",
    "        pvalues[key].append(stats.ttest_ind(a, b_).pvalue)\n",
    "\n",
    "# считаем точечные оценки вероятностей ошибки II рода\n",
    "for key, v in pvalues.items():\n",
    "    errors = (np.array(v) > alpha).astype(int)\n",
    "    part_errors = np.mean(errors)\n",
    "    print(f'{key}: part errors = {part_errors:0.4f}')\n",
    "\n",
    "# проверим, что отличия статистически значимые\n",
    "print(stats.ttest_ind(pvalues['one'], pvalues['three']).pvalue)\n",
    "print(stats.ttest_ind(pvalues['two'], pvalues['three']).pvalue)"
   ]
  },
  {
   "cell_type": "code",
   "execution_count": null,
   "metadata": {},
   "outputs": [],
   "source": []
  }
 ],
 "metadata": {
  "kernelspec": {
   "display_name": "Python 3",
   "language": "python",
   "name": "python3"
  },
  "language_info": {
   "codemirror_mode": {
    "name": "ipython",
    "version": 3
   },
   "file_extension": ".py",
   "mimetype": "text/x-python",
   "name": "python",
   "nbconvert_exporter": "python",
   "pygments_lexer": "ipython3",
   "version": "3.11.6"
  }
 },
 "nbformat": 4,
 "nbformat_minor": 2
}
