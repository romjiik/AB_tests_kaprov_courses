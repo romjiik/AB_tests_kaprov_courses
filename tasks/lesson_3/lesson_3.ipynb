{
 "cells": [
  {
   "cell_type": "code",
   "execution_count": 11,
   "metadata": {},
   "outputs": [],
   "source": [
    "import os\n",
    "import pandas as pd\n",
    "import numpy as np\n",
    "\n",
    "from datetime import datetime, timedelta\n",
    "\n",
    "import scipy.stats as stats\n",
    "from scipy.stats import norm, ttest_ind"
   ]
  },
  {
   "cell_type": "code",
   "execution_count": 2,
   "metadata": {},
   "outputs": [],
   "source": [
    "URL_BASE = 'https://raw.githubusercontent.com/ab-courses/simulator-ab-datasets/main/2022-04-01/'\n",
    "\n",
    "def read_database(file_name):\n",
    "    return pd.read_csv(os.path.join(URL_BASE, file_name))"
   ]
  },
  {
   "cell_type": "code",
   "execution_count": 7,
   "metadata": {},
   "outputs": [],
   "source": [
    "def get_sample_size_abs(epsilon, std, alpha=0.05, beta=0.2):\n",
    "    t_alpha = norm.ppf(1 - alpha / 2, loc=0, scale=1)\n",
    "    t_beta = norm.ppf(1 - beta, loc=0, scale=1)\n",
    "    z_scores_sum_squared = (t_alpha + t_beta) ** 2\n",
    "    sample_size = int(\n",
    "        np.ceil(\n",
    "            z_scores_sum_squared * (2 * std ** 2) / (epsilon ** 2)\n",
    "        )\n",
    "    )\n",
    "    return sample_size"
   ]
  },
  {
   "cell_type": "code",
   "execution_count": 8,
   "metadata": {},
   "outputs": [],
   "source": [
    "def get_sample_size_arb(mu, std, eff=1.01, alpha=0.05, beta=0.2):\n",
    "    epsilon = (eff - 1) * mu\n",
    "\n",
    "    return get_sample_size_abs(epsilon, std=std, alpha=alpha, beta=beta)\n",
    "\n",
    "def check_ttest(a, b, alpha=0.05):\n",
    "    \"\"\"Тест Стьюдента. Возвращает 1, если отличия значимы.\"\"\"\n",
    "    _, pvalue = ttest_ind(a, b)\n",
    "    return int(pvalue < alpha)"
   ]
  },
  {
   "cell_type": "markdown",
   "metadata": {},
   "source": [
    "# Задание 1"
   ]
  },
  {
   "cell_type": "markdown",
   "metadata": {},
   "source": [
    "Допустим, мы хотим провести эксперимент, в который попадают клиенты, совершившие покупку во время эксперимента.  \n",
    "\n",
    "* Метрика — средняя выручка с пользователя за время эксперимента;\n",
    "* Продолжительность — одна неделя;\n",
    "* Уровень значимости — 0.05;\n",
    "* Допустимая вероятность ошибки II рода — 0.1;\n",
    "* Ожидаемый эффект — 20 рублей.\n",
    "\n",
    "\n",
    "Оцените необходимый размер групп по данным о покупках за неделю с 21 по 28 февраля. Обратим внимание, что в выборку попадают события из полуинтервала [datetime(2022, 2, 21), datetime(2022, 2, 28))."
   ]
  },
  {
   "cell_type": "code",
   "execution_count": 3,
   "metadata": {},
   "outputs": [],
   "source": [
    "df_sales = read_database('2022-04-01T12_df_sales.csv')\n",
    "df_sales['date'] = pd.to_datetime(df_sales['date'])"
   ]
  },
  {
   "cell_type": "code",
   "execution_count": 42,
   "metadata": {},
   "outputs": [],
   "source": [
    "df_sales_hist = df_sales[(df_sales['date'] >= datetime(2022, 2, 21)) & (df_sales['date'] < datetime(2022, 2, 28))].copy()\n",
    "df_sales_hist = df_sales_hist.groupby(['user_id'], as_index=False)['price'].sum()"
   ]
  },
  {
   "cell_type": "code",
   "execution_count": 43,
   "metadata": {},
   "outputs": [
    {
     "name": "stdout",
     "output_type": "stream",
     "text": [
      "samples size per group = 34570\n"
     ]
    }
   ],
   "source": [
    "alpha = 0.05\n",
    "beta = 0.1\n",
    "effect = 20\n",
    "\n",
    "mean = df_sales_hist['price'].mean()\n",
    "std = df_sales_hist['price'].std()\n",
    "\n",
    "sample_size = get_sample_size_abs(effect, std, alpha=alpha, beta=beta)\n",
    "\n",
    "print(f'samples size per group = {round(sample_size, -1)}')"
   ]
  },
  {
   "cell_type": "markdown",
   "metadata": {},
   "source": [
    "# Задача 2"
   ]
  },
  {
   "cell_type": "markdown",
   "metadata": {},
   "source": [
    "В прошлом задании получилось, что необходимый размер групп больше имеющихся данных за одну неделю. Какой минимальный эффект мы можем отловить с теми же вероятностями ошибок на данных\n",
    "с 21 по 28 февраля?"
   ]
  },
  {
   "cell_type": "code",
   "execution_count": 44,
   "metadata": {},
   "outputs": [],
   "source": [
    "def get_minimal_determinable_effect(std, sample_size, alpha=0.05, beta=0.2):\n",
    "    t_alpha = norm.ppf(1 - alpha / 2, loc=0, scale=1)\n",
    "    t_beta = norm.ppf(1 - beta, loc=0, scale=1)\n",
    "    disp_sum_sqrt = (2 * (std ** 2)) ** 0.5\n",
    "    mde = (t_alpha + t_beta) * disp_sum_sqrt / np.sqrt(sample_size)\n",
    "    return mde"
   ]
  },
  {
   "cell_type": "code",
   "execution_count": 56,
   "metadata": {},
   "outputs": [
    {
     "name": "stdout",
     "output_type": "stream",
     "text": [
      "Минимальный эффект = 33\n"
     ]
    }
   ],
   "source": [
    "hist_sample_size = df_sales_hist['user_id'].nunique() / 2\n",
    "print(f'Минимальный эффект = {round(get_minimal_determinable_effect(std, hist_sample_size, alpha=alpha, beta=beta))}')"
   ]
  },
  {
   "cell_type": "code",
   "execution_count": null,
   "metadata": {},
   "outputs": [],
   "source": []
  }
 ],
 "metadata": {
  "kernelspec": {
   "display_name": "Python 3",
   "language": "python",
   "name": "python3"
  },
  "language_info": {
   "codemirror_mode": {
    "name": "ipython",
    "version": 3
   },
   "file_extension": ".py",
   "mimetype": "text/x-python",
   "name": "python",
   "nbconvert_exporter": "python",
   "pygments_lexer": "ipython3",
   "version": "3.11.6"
  }
 },
 "nbformat": 4,
 "nbformat_minor": 2
}
